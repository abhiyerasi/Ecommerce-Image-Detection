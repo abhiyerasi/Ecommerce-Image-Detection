{
 "cells": [
  {
   "cell_type": "code",
   "execution_count": 1,
   "metadata": {},
   "outputs": [],
   "source": [
    "import cv2\n",
    "import numpy as np\n",
    "import pytesseract\n",
    "from PIL import Image\n",
    "import pandas as pd"
   ]
  },
  {
   "cell_type": "code",
   "execution_count": 2,
   "metadata": {},
   "outputs": [],
   "source": [
    "import os\n",
    "ist=os.listdir('C:\\\\Users\\\\SIRI\\\\Desktop\\\\shirtmaskrcnn\\\\tesseract-python-master\\\\image')"
   ]
  },
  {
   "cell_type": "code",
   "execution_count": 3,
   "metadata": {},
   "outputs": [],
   "source": [
    "text_final=[]\n",
    "for i in ist:\n",
    "    imp=os.path.join('C:\\\\Users\\\\SIRI\\\\Desktop\\\\shirtmaskrcnn\\\\tesseract-python-master\\\\image',i)\n",
    "    im = Image.open(imp)\n",
    "    text = pytesseract.image_to_string(im, lang = 'eng')\n",
    "    text_final.append(text)"
   ]
  },
  {
   "cell_type": "code",
   "execution_count": 4,
   "metadata": {},
   "outputs": [],
   "source": [
    "fi=pd.DataFrame(text_final)\n",
    "ids=pd.DataFrame(ist)"
   ]
  },
  {
   "cell_type": "code",
   "execution_count": 5,
   "metadata": {},
   "outputs": [],
   "source": [
    "data=pd.concat([ids,fi],axis=1)\n",
    "data.columns=['id','text']\n",
    "data.to_csv('text.csv')"
   ]
  },
  {
   "cell_type": "code",
   "execution_count": 6,
   "metadata": {},
   "outputs": [
    {
     "data": {
      "text/html": [
       "<div>\n",
       "<style scoped>\n",
       "    .dataframe tbody tr th:only-of-type {\n",
       "        vertical-align: middle;\n",
       "    }\n",
       "\n",
       "    .dataframe tbody tr th {\n",
       "        vertical-align: top;\n",
       "    }\n",
       "\n",
       "    .dataframe thead th {\n",
       "        text-align: right;\n",
       "    }\n",
       "</style>\n",
       "<table border=\"1\" class=\"dataframe\">\n",
       "  <thead>\n",
       "    <tr style=\"text-align: right;\">\n",
       "      <th></th>\n",
       "      <th>id</th>\n",
       "      <th>text</th>\n",
       "    </tr>\n",
       "  </thead>\n",
       "  <tbody>\n",
       "    <tr>\n",
       "      <th>0</th>\n",
       "      <td>try (1).jpg</td>\n",
       "      <td>Driving&amp;\\nSmart&amp;\\nEarly&amp;\\nWaze.</td>\n",
       "    </tr>\n",
       "    <tr>\n",
       "      <th>1</th>\n",
       "      <td>try (1).png</td>\n",
       "      <td>SMASH!“</td>\n",
       "    </tr>\n",
       "    <tr>\n",
       "      <th>2</th>\n",
       "      <td>try (10).JPG</td>\n",
       "      <td>STRAIGHT\\nOUTTA\\n[em] e122:\\n\\nXTEESJJUM</td>\n",
       "    </tr>\n",
       "    <tr>\n",
       "      <th>3</th>\n",
       "      <td>try (11).jpg</td>\n",
       "      <td>A\\n\\n/ BONJOURiL\\n\" -i‘BITCHES ‘ ‘</td>\n",
       "    </tr>\n",
       "    <tr>\n",
       "      <th>4</th>\n",
       "      <td>try (12).jpg</td>\n",
       "      <td></td>\n",
       "    </tr>\n",
       "    <tr>\n",
       "      <th>5</th>\n",
       "      <td>try (2).png</td>\n",
       "      <td>Create\\nYour\\nOwn</td>\n",
       "    </tr>\n",
       "    <tr>\n",
       "      <th>6</th>\n",
       "      <td>try (3).jpg</td>\n",
       "      <td>OH. ‘PO‘PEHE , \\\\nLove Hou so!</td>\n",
       "    </tr>\n",
       "    <tr>\n",
       "      <th>7</th>\n",
       "      <td>try (3).png</td>\n",
       "      <td></td>\n",
       "    </tr>\n",
       "    <tr>\n",
       "      <th>8</th>\n",
       "      <td>try (5).jpg</td>\n",
       "      <td></td>\n",
       "    </tr>\n",
       "    <tr>\n",
       "      <th>9</th>\n",
       "      <td>try (6).jpg</td>\n",
       "      <td>There’s this GIRL\\nwho stole mq heart\\n\\nV 1%“...</td>\n",
       "    </tr>\n",
       "    <tr>\n",
       "      <th>10</th>\n",
       "      <td>try (7).jpg</td>\n",
       "      <td>REPLACE\\nNONSENSE\\nWu H\\nCOMMON\\n\\nSENSE\\nQNCA</td>\n",
       "    </tr>\n",
       "    <tr>\n",
       "      <th>11</th>\n",
       "      <td>try (8).jpg</td>\n",
       "      <td></td>\n",
       "    </tr>\n",
       "    <tr>\n",
       "      <th>12</th>\n",
       "      <td>try (9).jpg</td>\n",
       "      <td>m\\nAPRIL</td>\n",
       "    </tr>\n",
       "  </tbody>\n",
       "</table>\n",
       "</div>"
      ],
      "text/plain": [
       "              id                                               text\n",
       "0    try (1).jpg                    Driving&\\nSmart&\\nEarly&\\nWaze.\n",
       "1    try (1).png                                            SMASH!“\n",
       "2   try (10).JPG           STRAIGHT\\nOUTTA\\n[em] e122:\\n\\nXTEESJJUM\n",
       "3   try (11).jpg                 A\\n\\n/ BONJOURiL\\n\" -i‘BITCHES ‘ ‘\n",
       "4   try (12).jpg                                                   \n",
       "5    try (2).png                                  Create\\nYour\\nOwn\n",
       "6    try (3).jpg                     OH. ‘PO‘PEHE , \\\\nLove Hou so!\n",
       "7    try (3).png                                                   \n",
       "8    try (5).jpg                                                   \n",
       "9    try (6).jpg  There’s this GIRL\\nwho stole mq heart\\n\\nV 1%“...\n",
       "10   try (7).jpg     REPLACE\\nNONSENSE\\nWu H\\nCOMMON\\n\\nSENSE\\nQNCA\n",
       "11   try (8).jpg                                                   \n",
       "12   try (9).jpg                                           m\\nAPRIL"
      ]
     },
     "execution_count": 6,
     "metadata": {},
     "output_type": "execute_result"
    }
   ],
   "source": [
    "data"
   ]
  }
 ],
 "metadata": {
  "kernelspec": {
   "display_name": "Python 3",
   "language": "python",
   "name": "python3"
  },
  "language_info": {
   "codemirror_mode": {
    "name": "ipython",
    "version": 3
   },
   "file_extension": ".py",
   "mimetype": "text/x-python",
   "name": "python",
   "nbconvert_exporter": "python",
   "pygments_lexer": "ipython3",
   "version": "3.5.4"
  }
 },
 "nbformat": 4,
 "nbformat_minor": 2
}
